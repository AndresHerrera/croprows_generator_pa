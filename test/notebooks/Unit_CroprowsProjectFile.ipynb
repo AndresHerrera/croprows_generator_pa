{
 "cells": [
  {
   "cell_type": "code",
   "execution_count": 1,
   "metadata": {
    "collapsed": false
   },
   "outputs": [
    {
     "ename": "ImportError",
     "evalue": "No module named 'croprows_globals'",
     "output_type": "error",
     "traceback": [
      "\u001b[0;31m---------------------------------------------------------------------------\u001b[0m",
      "\u001b[0;31mImportError\u001b[0m                               Traceback (most recent call last)",
      "\u001b[0;32m<ipython-input-1-e408e7a4cd92>\u001b[0m in \u001b[0;36m<module>\u001b[0;34m()\u001b[0m\n\u001b[1;32m      3\u001b[0m \u001b[0msys\u001b[0m\u001b[0;34m.\u001b[0m\u001b[0mpath\u001b[0m\u001b[0;34m.\u001b[0m\u001b[0minsert\u001b[0m\u001b[0;34m(\u001b[0m\u001b[0;36m0\u001b[0m\u001b[0;34m,\u001b[0m \u001b[0;34m'../croprows-cli/src/'\u001b[0m\u001b[0;34m)\u001b[0m\u001b[0;34m\u001b[0m\u001b[0m\n\u001b[1;32m      4\u001b[0m \u001b[0;34m\u001b[0m\u001b[0m\n\u001b[0;32m----> 5\u001b[0;31m \u001b[0;32mimport\u001b[0m \u001b[0mcroprows_globals\u001b[0m \u001b[0;32mas\u001b[0m \u001b[0mcrglobals\u001b[0m\u001b[0;34m\u001b[0m\u001b[0m\n\u001b[0m\u001b[1;32m      6\u001b[0m \u001b[0;32mimport\u001b[0m \u001b[0mcroprows_utils\u001b[0m \u001b[0;32mas\u001b[0m \u001b[0mcrutils\u001b[0m\u001b[0;34m\u001b[0m\u001b[0m\n\u001b[1;32m      7\u001b[0m \u001b[0;32mimport\u001b[0m \u001b[0mcroprows_fileutils\u001b[0m \u001b[0;32mas\u001b[0m \u001b[0mcrfileutils\u001b[0m\u001b[0;34m\u001b[0m\u001b[0m\n",
      "\u001b[0;31mImportError\u001b[0m: No module named 'croprows_globals'"
     ]
    }
   ],
   "source": [
    "import sys\n",
    "#Move to parent folder\n",
    "sys.path.insert(0, '../../croprows-cli/src/')\n",
    "\n",
    "import croprows_globals as crglobals\n",
    "import croprows_utils as crutils\n",
    "import croprows_fileutils as crfileutils\n",
    "\n",
    "\n",
    "import imp \n",
    "imp.reload(crglobals)\n",
    "imp.reload(crutils)\n",
    "imp.reload(crfileutils)"
   ]
  },
  {
   "cell_type": "code",
   "execution_count": 3,
   "metadata": {
    "collapsed": false
   },
   "outputs": [
    {
     "name": "stdout",
     "output_type": "stream",
     "text": [
      "\u001b[6;30;42m[DONE]\u001b[0m Reading from CropRows project file: ../orthomosaics/testfile1.xml \n",
      ".........................................................\n",
      "cfg -> filename: testimage1.tif\n",
      "cfg -> mask: field_boundary.shp\n",
      "cfg -> image_dimensions: 17992,23231\n",
      "cfg -> image_origin: 358624,376856\n",
      "cfg -> pixel_size: 0.0184399,-0.0184401\n",
      "cfg -> image_extents: 358624.4387608282850124,376427.6166225711349398,358956.2094862160738558,376855.9995228421757929\n",
      "cfg -> epsg: 32618\n",
      "cfg -> projwtk: PROJCS[\"WGS 84 / UTM zone 18N\",GEOGCS[\"WGS 84\",DATUM[\"WGS_1984\",SPHEROID[\"WGS 84\",6378137,298.257223563,AUTHORITY[\"EPSG\",\"7030\"]],AUTHORITY[\"EPSG\",\"6326\"]],PRIMEM[\"Greenwich\",0,AUTHORITY[\"EPSG\",\"8901\"]],UNIT[\"degree\",0.01745329251994328,AUTHORITY[\"EPSG\",\"9122\"]],AUTHORITY[\"EPSG\",\"4326\"]],UNIT[\"metre\",1,AUTHORITY[\"EPSG\",\"9001\"]],PROJECTION[\"Transverse_Mercator\"],PARAMETER[\"latitude_of_origin\",0],PARAMETER[\"central_meridian\",-75],PARAMETER[\"scale_factor\",0.9996],PARAMETER[\"false_easting\",500000],PARAMETER[\"false_northing\",0],AUTHORITY[\"EPSG\",\"32618\"],AXIS[\"Easting\",EAST],AXIS[\"Northing\",NORTH]]\n",
      "cfg -> seed: 4\n",
      "cfg -> prj: testfile1\n",
      ".........................................................\n"
     ]
    }
   ],
   "source": [
    "crfile = crfileutils.croprowsFileReader(\"../orthomosaics/testfile1.xml\")\n"
   ]
  },
  {
   "cell_type": "code",
   "execution_count": 5,
   "metadata": {
    "collapsed": false
   },
   "outputs": [
    {
     "name": "stdout",
     "output_type": "stream",
     "text": [
      "testimage1.tif\n",
      "[17992, 23231]\n",
      "17992\n",
      "23231\n",
      "[358624, 376856]\n",
      "[0.0184399, -0.0184401]\n",
      "[358624.4387608283, 376427.61662257113, 358956.2094862161, 376855.9995228422]\n",
      "32618\n",
      "PROJCS[\"WGS 84 / UTM zone 18N\",GEOGCS[\"WGS 84\",DATUM[\"WGS_1984\",SPHEROID[\"WGS 84\",6378137,298.257223563,AUTHORITY[\"EPSG\",\"7030\"]],AUTHORITY[\"EPSG\",\"6326\"]],PRIMEM[\"Greenwich\",0,AUTHORITY[\"EPSG\",\"8901\"]],UNIT[\"degree\",0.01745329251994328,AUTHORITY[\"EPSG\",\"9122\"]],AUTHORITY[\"EPSG\",\"4326\"]],UNIT[\"metre\",1,AUTHORITY[\"EPSG\",\"9001\"]],PROJECTION[\"Transverse_Mercator\"],PARAMETER[\"latitude_of_origin\",0],PARAMETER[\"central_meridian\",-75],PARAMETER[\"scale_factor\",0.9996],PARAMETER[\"false_easting\",500000],PARAMETER[\"false_northing\",0],AUTHORITY[\"EPSG\",\"32618\"],AXIS[\"Easting\",EAST],AXIS[\"Northing\",NORTH]]\n",
      "4\n",
      "field_boundary.shp\n",
      "testfile1\n"
     ]
    }
   ],
   "source": [
    "print(crfile['filename'])\n",
    "print(crfile['image_dimensions'])\n",
    "#test array obj\n",
    "print(crfile['image_dimensions'][0])\n",
    "print(crfile['image_dimensions'][1])\n",
    "\n",
    "print(crfile['image_origin'])\n",
    "print(crfile['pixel_size'])\n",
    "print(crfile['image_extents'])\n",
    "print(crfile['epsg'])\n",
    "print(crfile['projwtk'])\n",
    "print(crfile['seed'])\n",
    "print(crfile['mask'])\n",
    "print(crfile['prj'])"
   ]
  },
  {
   "cell_type": "code",
   "execution_count": 6,
   "metadata": {
    "collapsed": false
   },
   "outputs": [],
   "source": [
    "import xml.etree.ElementTree as ET\n",
    "tree = ET.parse('../orthomosaics/testfile1.xml')\n",
    "root = tree.getroot()"
   ]
  },
  {
   "cell_type": "code",
   "execution_count": 5,
   "metadata": {
    "collapsed": false
   },
   "outputs": [
    {
     "name": "stdout",
     "output_type": "stream",
     "text": [
      "croprows\n"
     ]
    }
   ],
   "source": [
    "print(root.tag)"
   ]
  },
  {
   "cell_type": "code",
   "execution_count": 8,
   "metadata": {
    "collapsed": false
   },
   "outputs": [
    {
     "name": "stdout",
     "output_type": "stream",
     "text": [
      "testimage1.tif\n",
      "17992,23231\n",
      "358624,376856\n",
      "0.0184399,-0.0184401\n",
      "358624.4387608282850124,376427.6166225711349398,358956.2094862160738558,376855.9995228421757929\n",
      "32618\n",
      "PROJCS[\"WGS 84 / UTM zone 18N\",GEOGCS[\"WGS 84\",DATUM[\"WGS_1984\",SPHEROID[\"WGS 84\",6378137,298.257223563,AUTHORITY[\"EPSG\",\"7030\"]],AUTHORITY[\"EPSG\",\"6326\"]],PRIMEM[\"Greenwich\",0,AUTHORITY[\"EPSG\",\"8901\"]],UNIT[\"degree\",0.01745329251994328,AUTHORITY[\"EPSG\",\"9122\"]],AUTHORITY[\"EPSG\",\"4326\"]],UNIT[\"metre\",1,AUTHORITY[\"EPSG\",\"9001\"]],PROJECTION[\"Transverse_Mercator\"],PARAMETER[\"latitude_of_origin\",0],PARAMETER[\"central_meridian\",-75],PARAMETER[\"scale_factor\",0.9996],PARAMETER[\"false_easting\",500000],PARAMETER[\"false_northing\",0],AUTHORITY[\"EPSG\",\"32618\"],AXIS[\"Easting\",EAST],AXIS[\"Northing\",NORTH]]\n",
      "4\n",
      "field_boundary.shp\n",
      "testfile1\n"
     ]
    }
   ],
   "source": [
    "for filexml in root.findall('filename'):\n",
    "    filename = filexml.get('name')\n",
    "    mask = filexml.get('mask')\n",
    "    image_dimensions = filexml.find('image_dimensions').text\n",
    "    image_origin = filexml.find('image_origin').text\n",
    "    pixel_size = filexml.find('pixel_size').text\n",
    "    image_extents = filexml.find('image_extents').text\n",
    "    epsg = filexml.find('epsg').text\n",
    "    projwtk = filexml.find('projwtk').text\n",
    "    seed = filexml.find('seed').text\n",
    "    prj = filexml.find('prj').text\n",
    "    print(filename)\n",
    "    print(image_dimensions)\n",
    "    print(image_origin)\n",
    "    print(pixel_size)\n",
    "    print(image_extents)\n",
    "    print(epsg)\n",
    "    print(projwtk)\n",
    "    print(seed)\n",
    "    print(mask)\n",
    "    print(prj)"
   ]
  },
  {
   "cell_type": "markdown",
   "metadata": {},
   "source": [
    "<h1> XML Config file DEMO</h1>"
   ]
  },
  {
   "cell_type": "raw",
   "metadata": {},
   "source": [
    "<?xml version=\"1.0\"?>\n",
    "<croprows>\n",
    "    <filename name=\"clip_orthomosaic.tif\" mask=\"field_boundary.shp\">\n",
    "    \t<image_dimensions>17992,23231</image_dimensions>\n",
    "    \t<image_origin>358624,376856</image_origin>\n",
    "    \t<pixel_size>0.0184399,-0.0184401</pixel_size>\n",
    "    \t<image_extents>358624.4387608282850124,376427.6166225711349398,358956.2094862160738558,376855.9995228421757929</image_extents>\n",
    "    \t<epsg>32618</epsg>\n",
    "    \t<projwtk>PROJCS[\"WGS 84 / UTM zone 18N\",GEOGCS[\"WGS 84\",DATUM[\"WGS_1984\",SPHEROID[\"WGS 84\",6378137,298.257223563,AUTHORITY[\"EPSG\",\"7030\"]],AUTHORITY[\"EPSG\",\"6326\"]],PRIMEM[\"Greenwich\",0,AUTHORITY[\"EPSG\",\"8901\"]],UNIT[\"degree\",0.01745329251994328,AUTHORITY[\"EPSG\",\"9122\"]],AUTHORITY[\"EPSG\",\"4326\"]],UNIT[\"metre\",1,AUTHORITY[\"EPSG\",\"9001\"]],PROJECTION[\"Transverse_Mercator\"],PARAMETER[\"latitude_of_origin\",0],PARAMETER[\"central_meridian\",-75],PARAMETER[\"scale_factor\",0.9996],PARAMETER[\"false_easting\",500000],PARAMETER[\"false_northing\",0],AUTHORITY[\"EPSG\",\"32618\"],AXIS[\"Easting\",EAST],AXIS[\"Northing\",NORTH]]</projwtk>\n",
    "    \t<seed>4</seed>\n",
    "        <prj>prjtitle</prj>\n",
    "    </filename>\n",
    "</croprows>"
   ]
  },
  {
   "cell_type": "code",
   "execution_count": null,
   "metadata": {
    "collapsed": true
   },
   "outputs": [],
   "source": []
  }
 ],
 "metadata": {
  "kernelspec": {
   "display_name": "Python 3",
   "language": "python",
   "name": "python3"
  },
  "language_info": {
   "codemirror_mode": {
    "name": "ipython",
    "version": 3
   },
   "file_extension": ".py",
   "mimetype": "text/x-python",
   "name": "python",
   "nbconvert_exporter": "python",
   "pygments_lexer": "ipython3",
   "version": "3.5.2"
  }
 },
 "nbformat": 4,
 "nbformat_minor": 1
}

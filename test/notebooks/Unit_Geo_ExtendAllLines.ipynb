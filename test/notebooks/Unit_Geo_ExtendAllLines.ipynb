{
 "cells": [
  {
   "cell_type": "code",
   "execution_count": 1,
   "metadata": {
    "collapsed": false
   },
   "outputs": [
    {
     "name": "stdout",
     "output_type": "stream",
     "text": [
      "####################################################################\n",
      "\n",
      " #####  ######  ####### ######  ######  ####### #     #  #####     \n",
      "#     # #     # #     # #     # #     # #     # #  #  # #     #    \n",
      "#       #     # #     # #     # #     # #     # #  #  # #          \n",
      "#       ######  #     # ######  ######  #     # #  #  #  #####     \n",
      "#       #   #   #     # #       #   #   #     # #  #  #       #    \n",
      "#     # #    #  #     # #       #    #  #     # #  #  # #     #    \n",
      " #####  #     # ####### #       #     # #######  ## ##   #####     \n",
      "                                                  Version 1.0\t\t\n",
      "\n",
      "####################################################################\n",
      "croprows_globals [ module loaded ]\n",
      "croprows_utils [ module loaded ]\n",
      "croprows_image_processing [ module loaded ]\n",
      "croprows_fileutils [ module loaded ]\n",
      "croprows_geo [ module loaded ]\n",
      "####################################################################\n",
      "\n",
      " #####  ######  ####### ######  ######  ####### #     #  #####     \n",
      "#     # #     # #     # #     # #     # #     # #  #  # #     #    \n",
      "#       #     # #     # #     # #     # #     # #  #  # #          \n",
      "#       ######  #     # ######  ######  #     # #  #  #  #####     \n",
      "#       #   #   #     # #       #   #   #     # #  #  #       #    \n",
      "#     # #    #  #     # #       #    #  #     # #  #  # #     #    \n",
      " #####  #     # ####### #       #     # #######  ## ##   #####     \n",
      "                                                  Version 1.0\t\t\n",
      "\n",
      "####################################################################\n",
      "croprows_globals [ module loaded ]\n",
      "croprows_utils [ module loaded ]\n",
      "croprows_geo [ module loaded ]\n"
     ]
    },
    {
     "data": {
      "text/plain": [
       "<module 'croprows_geo' from '../croprows-cli/src/croprows_geo.py'>"
      ]
     },
     "execution_count": 1,
     "metadata": {},
     "output_type": "execute_result"
    }
   ],
   "source": [
    "import sys\n",
    "#Move to parent folder\n",
    "sys.path.insert(0, '../../croprows-cli/src/')\n",
    "\n",
    "import croprows_globals as crglobals\n",
    "\n",
    "import croprows_utils as crutils\n",
    "import croprows_geo as crgeo\n",
    "\n",
    "import imp \n",
    "imp.reload(crglobals)\n",
    "imp.reload(crutils)\n",
    "imp.reload(crgeo)"
   ]
  },
  {
   "cell_type": "code",
   "execution_count": 2,
   "metadata": {
    "collapsed": false
   },
   "outputs": [
    {
     "name": "stdout",
     "output_type": "stream",
     "text": [
      ".........................................................\n",
      "\u001b[0;31;40m[WORKER]\u001b[0m extendAllLinesInParallel -> Processing Tile 5 , 5 \n",
      "\u001b[0;31;40m[->]\u001b[0m Process name: MainProcess \n",
      "\u001b[0;31;40m[->]\u001b[0m Parent processs: 9\n",
      "\u001b[0;31;40m[->]\u001b[0m Process id: 20062\n",
      "\u001b[6;30;43m[CHECK]\u001b[0m tilesDirName: ../orthomosaics/results/testfile3/mosaic_5_5_1077px_25_tiles\n",
      "\u001b[6;30;46m[*]\u001b[0m EPSG: 32618\n",
      "\u001b[6;30;46m[*]\u001b[0m iCols: 5\n",
      "\u001b[6;30;46m[*]\u001b[0m jRows: 5\n",
      "\u001b[6;30;46m[*]\u001b[0m Vector dir: ../orthomosaics/results/testfile3/mosaic_5_5_1077px_25_tiles/vectors\n",
      "\u001b[6;30;46m[*]\u001b[0m Vector dir Obj: ../orthomosaics/results/testfile3/mosaic_5_5_1077px_25_tiles/vectors/obj\n",
      "\u001b[6;30;46m[*]\u001b[0m Mask File: ../orthomosaics/testmask3.shp\n",
      "\u001b[6;30;46m[*]\u001b[0m Bounds File : mosaic-cl_5-rw_5.geojson\n",
      "\u001b[6;30;46m[*]\u001b[0m Lines File: mosaic-cl_5-rw_5_lines.geojson\n",
      "\u001b[6;30;43m[CHECK]\u001b[0m File mosaic-cl_5-rw_5_lines.geojson is correct !\n",
      "\u001b[0;30;41m[FAIL]\u001b[0m Lines or bounds file does not exist ../orthomosaics/results/testfile3/mosaic_5_5_1077px_25_tiles/vectors/obj/mosaic-cl_5-rw_5_lines.geojson\n",
      ".........................................................\n"
     ]
    },
    {
     "data": {
      "text/plain": [
       "1"
      ]
     },
     "execution_count": 2,
     "metadata": {},
     "output_type": "execute_result"
    }
   ],
   "source": [
    "#check folder permisions example 1\n",
    "crgeo.extendAllLinesInParallel(\"../orthomosaics/results/testfile3/mosaic_5_5_1077px_25_tiles\", \"32618\", 5,5,\"../orthomosaics/testmask3.shp\",3)\n"
   ]
  },
  {
   "cell_type": "code",
   "execution_count": null,
   "metadata": {
    "collapsed": true
   },
   "outputs": [],
   "source": []
  }
 ],
 "metadata": {
  "kernelspec": {
   "display_name": "Python 3",
   "language": "python",
   "name": "python3"
  },
  "language_info": {
   "codemirror_mode": {
    "name": "ipython",
    "version": 3
   },
   "file_extension": ".py",
   "mimetype": "text/x-python",
   "name": "python",
   "nbconvert_exporter": "python",
   "pygments_lexer": "ipython3",
   "version": "3.5.2"
  }
 },
 "nbformat": 4,
 "nbformat_minor": 1
}

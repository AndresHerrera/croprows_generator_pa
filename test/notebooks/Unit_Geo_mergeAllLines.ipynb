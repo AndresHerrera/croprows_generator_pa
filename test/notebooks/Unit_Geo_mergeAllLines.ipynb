{
 "cells": [
  {
   "cell_type": "code",
   "execution_count": 1,
   "metadata": {
    "collapsed": false
   },
   "outputs": [
    {
     "name": "stdout",
     "output_type": "stream",
     "text": [
      "####################################################################\n",
      "\n",
      " #####  ######  ####### ######  ######  ####### #     #  #####     \n",
      "#     # #     # #     # #     # #     # #     # #  #  # #     #    \n",
      "#       #     # #     # #     # #     # #     # #  #  # #          \n",
      "#       ######  #     # ######  ######  #     # #  #  #  #####     \n",
      "#       #   #   #     # #       #   #   #     # #  #  #       #    \n",
      "#     # #    #  #     # #       #    #  #     # #  #  # #     #    \n",
      " #####  #     # ####### #       #     # #######  ## ##   #####     \n",
      "                                                  Version 1.0\t\t\n",
      "\n",
      "####################################################################\n",
      "croprows_globals [ module loaded ]\n",
      "croprows_utils [ module loaded ]\n",
      "croprows_image_processing [ module loaded ]\n",
      "croprows_fileutils [ module loaded ]\n",
      "croprows_geo [ module loaded ]\n",
      "####################################################################\n",
      "\n",
      " #####  ######  ####### ######  ######  ####### #     #  #####     \n",
      "#     # #     # #     # #     # #     # #     # #  #  # #     #    \n",
      "#       #     # #     # #     # #     # #     # #  #  # #          \n",
      "#       ######  #     # ######  ######  #     # #  #  #  #####     \n",
      "#       #   #   #     # #       #   #   #     # #  #  #       #    \n",
      "#     # #    #  #     # #       #    #  #     # #  #  # #     #    \n",
      " #####  #     # ####### #       #     # #######  ## ##   #####     \n",
      "                                                  Version 1.0\t\t\n",
      "\n",
      "####################################################################\n",
      "croprows_globals [ module loaded ]\n",
      "croprows_utils [ module loaded ]\n",
      "croprows_geo [ module loaded ]\n"
     ]
    }
   ],
   "source": [
    "import sys\n",
    "#Move to parent folder\n",
    "sys.path.insert(0, '../../croprows-cli/src/')\n",
    "\n",
    "import croprows_globals as crglobals\n",
    "\n",
    "import croprows_utils as crutils\n",
    "import croprows_geo as crgeo\n",
    "\n",
    "import imp \n",
    "imp.reload(crglobals)\n",
    "imp.reload(crutils)\n",
    "imp.reload(crgeo)\n",
    "\n",
    "import pandas as pd\n",
    "import geopandas as gpd\n",
    "import json\n",
    "import geojson\n",
    "from shapely.geometry import shape\n",
    "from shapely.wkt import dumps, loads\n",
    "from shapely.geometry import Point\n",
    "from shapely.geometry.polygon import LineString, LinearRing, Polygon\n",
    "\n",
    "import os\n",
    "import numpy as np\n",
    "import cv2\n",
    "import math\n",
    "import matplotlib.pyplot as plt\n",
    "import re"
   ]
  },
  {
   "cell_type": "code",
   "execution_count": 2,
   "metadata": {
    "collapsed": true
   },
   "outputs": [],
   "source": [
    "file_lines1 = '../../orthomosaics/results/testfile3/mosaic_5_5_1077px_25_tiles/vectors/obj/mosaic-cl_3-rw_2_lines_ext.shp'\n",
    "bounds_lines1 = '../../orthomosaics/results/testfile3/mosaic_5_5_1077px_25_tiles/vectors/mosaic-cl_3-rw_2.geojson'\n",
    "\n",
    "file_lines2 = '../../orthomosaics/results/testfile3/mosaic_5_5_1077px_25_tiles/vectors/obj/mosaic-cl_3-rw_3_lines_ext.shp'\n",
    "bounds_lines2 = '../../orthomosaics/results/testfile3/mosaic_5_5_1077px_25_tiles//vectors/mosaic-cl_3-rw_3.geojson'"
   ]
  },
  {
   "cell_type": "code",
   "execution_count": 3,
   "metadata": {
    "collapsed": false
   },
   "outputs": [
    {
     "data": {
      "text/plain": [
       "(378935.83917887101, 378955.83917887101)"
      ]
     },
     "execution_count": 3,
     "metadata": {},
     "output_type": "execute_result"
    },
    {
     "data": {
      "image/png": "[encoded data removed]",
      "text/plain": [
       "<matplotlib.figure.Figure at 0x7f3b431eb9b0>"
      ]
     },
     "metadata": {},
     "output_type": "display_data"
    },
    {
     "data": {
      "image/png": "[encoded data removed]",
      "text/plain": [
       "<matplotlib.figure.Figure at 0x7f3b44ab7ef0>"
      ]
     },
     "metadata": {},
     "output_type": "display_data"
    }
   ],
   "source": [
    "lineas1 = gpd.GeoDataFrame.from_file(file_lines1)\n",
    "boxl = gpd.GeoDataFrame.from_file(bounds_lines1)\n",
    "#print(lineas)\n",
    "#print(lineas.geometry.bounds)\n",
    "lineas1.geometry.plot()\n",
    "boxl.geometry.plot()\n",
    "\n",
    "plt.xlim([np.min(boxl.geometry.bounds.minx), np.max(boxl.geometry.bounds.maxx)])\n",
    "plt.ylim([np.min(boxl.geometry.bounds.miny), np.max(boxl.geometry.bounds.maxy)])"
   ]
  },
  {
   "cell_type": "code",
   "execution_count": 4,
   "metadata": {
    "collapsed": false
   },
   "outputs": [
    {
     "ename": "OSError",
     "evalue": "no such file or directory: '../../../orthomosaics/results/testfile3/mosaic_5_5_1077px_25_tiles/vectors/obj/mosaic-cl_3-rw_3_lines_ext.shp'",
     "output_type": "error",
     "traceback": [
      "\u001b[0;31m---------------------------------------------------------------------------\u001b[0m",
      "\u001b[0;31mOSError\u001b[0m                                   Traceback (most recent call last)",
      "\u001b[0;32m<ipython-input-4-5d8db1239657>\u001b[0m in \u001b[0;36m<module>\u001b[0;34m()\u001b[0m\n\u001b[0;32m----> 1\u001b[0;31m \u001b[0mlineas2\u001b[0m \u001b[0;34m=\u001b[0m \u001b[0mgpd\u001b[0m\u001b[0;34m.\u001b[0m\u001b[0mGeoDataFrame\u001b[0m\u001b[0;34m.\u001b[0m\u001b[0mfrom_file\u001b[0m\u001b[0;34m(\u001b[0m\u001b[0mfile_lines2\u001b[0m\u001b[0;34m)\u001b[0m\u001b[0;34m\u001b[0m\u001b[0m\n\u001b[0m\u001b[1;32m      2\u001b[0m \u001b[0mbox2\u001b[0m \u001b[0;34m=\u001b[0m \u001b[0mgpd\u001b[0m\u001b[0;34m.\u001b[0m\u001b[0mGeoDataFrame\u001b[0m\u001b[0;34m.\u001b[0m\u001b[0mfrom_file\u001b[0m\u001b[0;34m(\u001b[0m\u001b[0mbounds_lines2\u001b[0m\u001b[0;34m)\u001b[0m\u001b[0;34m\u001b[0m\u001b[0m\n\u001b[1;32m      3\u001b[0m \u001b[0;31m#print(lineas)\u001b[0m\u001b[0;34m\u001b[0m\u001b[0;34m\u001b[0m\u001b[0m\n\u001b[1;32m      4\u001b[0m \u001b[0;31m#print(lineas.geometry.bounds)\u001b[0m\u001b[0;34m\u001b[0m\u001b[0;34m\u001b[0m\u001b[0m\n\u001b[1;32m      5\u001b[0m \u001b[0mlineas2\u001b[0m\u001b[0;34m.\u001b[0m\u001b[0mgeometry\u001b[0m\u001b[0;34m.\u001b[0m\u001b[0mplot\u001b[0m\u001b[0;34m(\u001b[0m\u001b[0;34m)\u001b[0m\u001b[0;34m\u001b[0m\u001b[0m\n",
      "\u001b[0;32m/opt/conda/lib/python3.5/site-packages/geopandas/geodataframe.py\u001b[0m in \u001b[0;36mfrom_file\u001b[0;34m(cls, filename, **kwargs)\u001b[0m\n\u001b[1;32m    165\u001b[0m \u001b[0;34m\u001b[0m\u001b[0m\n\u001b[1;32m    166\u001b[0m         \"\"\"\n\u001b[0;32m--> 167\u001b[0;31m         \u001b[0;32mreturn\u001b[0m \u001b[0mgeopandas\u001b[0m\u001b[0;34m.\u001b[0m\u001b[0mio\u001b[0m\u001b[0;34m.\u001b[0m\u001b[0mfile\u001b[0m\u001b[0;34m.\u001b[0m\u001b[0mread_file\u001b[0m\u001b[0;34m(\u001b[0m\u001b[0mfilename\u001b[0m\u001b[0;34m,\u001b[0m \u001b[0;34m**\u001b[0m\u001b[0mkwargs\u001b[0m\u001b[0;34m)\u001b[0m\u001b[0;34m\u001b[0m\u001b[0m\n\u001b[0m\u001b[1;32m    168\u001b[0m \u001b[0;34m\u001b[0m\u001b[0m\n\u001b[1;32m    169\u001b[0m     \u001b[0;34m@\u001b[0m\u001b[0mclassmethod\u001b[0m\u001b[0;34m\u001b[0m\u001b[0m\n",
      "\u001b[0;32m/opt/conda/lib/python3.5/site-packages/geopandas/io/file.py\u001b[0m in \u001b[0;36mread_file\u001b[0;34m(filename, **kwargs)\u001b[0m\n\u001b[1;32m     17\u001b[0m     \"\"\"\n\u001b[1;32m     18\u001b[0m     \u001b[0mbbox\u001b[0m \u001b[0;34m=\u001b[0m \u001b[0mkwargs\u001b[0m\u001b[0;34m.\u001b[0m\u001b[0mpop\u001b[0m\u001b[0;34m(\u001b[0m\u001b[0;34m'bbox'\u001b[0m\u001b[0;34m,\u001b[0m \u001b[0;32mNone\u001b[0m\u001b[0;34m)\u001b[0m\u001b[0;34m\u001b[0m\u001b[0m\n\u001b[0;32m---> 19\u001b[0;31m     \u001b[0;32mwith\u001b[0m \u001b[0mfiona\u001b[0m\u001b[0;34m.\u001b[0m\u001b[0mopen\u001b[0m\u001b[0;34m(\u001b[0m\u001b[0mfilename\u001b[0m\u001b[0;34m,\u001b[0m \u001b[0;34m**\u001b[0m\u001b[0mkwargs\u001b[0m\u001b[0;34m)\u001b[0m \u001b[0;32mas\u001b[0m \u001b[0mf\u001b[0m\u001b[0;34m:\u001b[0m\u001b[0;34m\u001b[0m\u001b[0m\n\u001b[0m\u001b[1;32m     20\u001b[0m         \u001b[0mcrs\u001b[0m \u001b[0;34m=\u001b[0m \u001b[0mf\u001b[0m\u001b[0;34m.\u001b[0m\u001b[0mcrs\u001b[0m\u001b[0;34m\u001b[0m\u001b[0m\n\u001b[1;32m     21\u001b[0m         \u001b[0;32mif\u001b[0m \u001b[0mbbox\u001b[0m \u001b[0;32mis\u001b[0m \u001b[0;32mnot\u001b[0m \u001b[0;32mNone\u001b[0m\u001b[0;34m:\u001b[0m\u001b[0;34m\u001b[0m\u001b[0m\n",
      "\u001b[0;32m/opt/conda/lib/python3.5/site-packages/fiona/__init__.py\u001b[0m in \u001b[0;36mopen\u001b[0;34m(path, mode, driver, schema, crs, encoding, layer, vfs, enabled_drivers, crs_wkt)\u001b[0m\n\u001b[1;32m    160\u001b[0m                 \u001b[0;32mraise\u001b[0m \u001b[0mIOError\u001b[0m\u001b[0;34m(\u001b[0m\u001b[0;34m\"no such archive file: %r\"\u001b[0m \u001b[0;34m%\u001b[0m \u001b[0marchive\u001b[0m\u001b[0;34m)\u001b[0m\u001b[0;34m\u001b[0m\u001b[0m\n\u001b[1;32m    161\u001b[0m         \u001b[0;32melif\u001b[0m \u001b[0mpath\u001b[0m \u001b[0;34m!=\u001b[0m \u001b[0;34m'-'\u001b[0m \u001b[0;32mand\u001b[0m \u001b[0;32mnot\u001b[0m \u001b[0mos\u001b[0m\u001b[0;34m.\u001b[0m\u001b[0mpath\u001b[0m\u001b[0;34m.\u001b[0m\u001b[0mexists\u001b[0m\u001b[0;34m(\u001b[0m\u001b[0mpath\u001b[0m\u001b[0;34m)\u001b[0m\u001b[0;34m:\u001b[0m\u001b[0;34m\u001b[0m\u001b[0m\n\u001b[0;32m--> 162\u001b[0;31m             \u001b[0;32mraise\u001b[0m \u001b[0mIOError\u001b[0m\u001b[0;34m(\u001b[0m\u001b[0;34m\"no such file or directory: %r\"\u001b[0m \u001b[0;34m%\u001b[0m \u001b[0mpath\u001b[0m\u001b[0;34m)\u001b[0m\u001b[0;34m\u001b[0m\u001b[0m\n\u001b[0m\u001b[1;32m    163\u001b[0m         c = Collection(path, mode, driver=driver, encoding=encoding,\n\u001b[1;32m    164\u001b[0m                        \u001b[0mlayer\u001b[0m\u001b[0;34m=\u001b[0m\u001b[0mlayer\u001b[0m\u001b[0;34m,\u001b[0m \u001b[0mvsi\u001b[0m\u001b[0;34m=\u001b[0m\u001b[0mvsi\u001b[0m\u001b[0;34m,\u001b[0m \u001b[0marchive\u001b[0m\u001b[0;34m=\u001b[0m\u001b[0marchive\u001b[0m\u001b[0;34m,\u001b[0m\u001b[0;34m\u001b[0m\u001b[0m\n",
      "\u001b[0;31mOSError\u001b[0m: no such file or directory: '../../../orthomosaics/results/testfile3/mosaic_5_5_1077px_25_tiles/vectors/obj/mosaic-cl_3-rw_3_lines_ext.shp'"
     ]
    }
   ],
   "source": [
    "lineas2 = gpd.GeoDataFrame.from_file(file_lines2)\n",
    "box2 = gpd.GeoDataFrame.from_file(bounds_lines2)\n",
    "#print(lineas)\n",
    "#print(lineas.geometry.bounds)\n",
    "lineas2.geometry.plot()\n",
    "box2.geometry.plot()\n",
    "\n",
    "plt.xlim([np.min(box2.geometry.bounds.minx), np.max(box2.geometry.bounds.maxx)])\n",
    "plt.ylim([np.min(box2.geometry.bounds.miny), np.max(box2.geometry.bounds.maxy)])"
   ]
  },
  {
   "cell_type": "code",
   "execution_count": null,
   "metadata": {
    "collapsed": false
   },
   "outputs": [],
   "source": [
    "from shapely.ops import snap\n",
    "res = lineas1\n",
    "lineas2_union = lineas2.geometry.unary_union\n",
    "res.geometry = lineas1.geometry.apply(lambda x: snap(x, lineas2_union, 0.005))"
   ]
  },
  {
   "cell_type": "code",
   "execution_count": null,
   "metadata": {
    "collapsed": false
   },
   "outputs": [],
   "source": [
    "res.geometry.plot()"
   ]
  },
  {
   "cell_type": "code",
   "execution_count": null,
   "metadata": {
    "collapsed": false
   },
   "outputs": [],
   "source": [
    "file_snap = '../../orthomosaics/results/testfile3/mosaic_5_5_1077px_25_tiles/vectors/obj/test_snap1.shp'\n",
    "crs = {'init': 'epsg:32618'}\n",
    "\n",
    "dd=gpd.GeoDataFrame(crs=crs, geometry=res.geometry)\n",
    "dd.to_file(driver = 'ESRI Shapefile', filename= file_snap)"
   ]
  },
  {
   "cell_type": "code",
   "execution_count": null,
   "metadata": {
    "collapsed": false
   },
   "outputs": [],
   "source": [
    "res.geometry"
   ]
  },
  {
   "cell_type": "code",
   "execution_count": null,
   "metadata": {
    "collapsed": true
   },
   "outputs": [],
   "source": [
    "#Merging all lines"
   ]
  },
  {
   "cell_type": "code",
   "execution_count": null,
   "metadata": {
    "collapsed": false
   },
   "outputs": [],
   "source": [
    "from os import walk\n",
    "\n",
    "mypath = '../../orthomosaics/results/testfile3/mosaic_5_5_1077px_25_tiles/vectors/obj/'\n",
    "\n",
    "lineask = []\n",
    "\n",
    "import os\n",
    "for file in os.listdir(mypath):\n",
    "    if file.endswith(\".shp\"):\n",
    "        if file.startswith(\"mosaic\"):\n",
    "            filesm = os.path.join(mypath, file)\n",
    "            print(filesm)\n",
    "            lineask.append( gpd.GeoDataFrame.from_file(filesm) )\n",
    "        "
   ]
  },
  {
   "cell_type": "code",
   "execution_count": null,
   "metadata": {
    "collapsed": false
   },
   "outputs": [],
   "source": [
    "lineask[0]"
   ]
  },
  {
   "cell_type": "code",
   "execution_count": null,
   "metadata": {
    "collapsed": false
   },
   "outputs": [],
   "source": [
    "type(lineask[0])"
   ]
  },
  {
   "cell_type": "code",
   "execution_count": null,
   "metadata": {
    "collapsed": false
   },
   "outputs": [],
   "source": [
    "merged=[]\n",
    "a=0\n",
    "for i in lineask:\n",
    "    merged.append(lineask[a])\n",
    "    a+=1\n",
    "    \n",
    "\n",
    "#print(merged)\n",
    "\n",
    "#result = pd.concat([merged[0],merged[1],merged[2],merged[3], merged[4] , merged[5] ],axis=0)\n",
    "\n",
    "#frames = [merged[0], merged[1], merged[2]]\n",
    "\n",
    "#print(frames)\n",
    "\n",
    "result = pd.concat(merged,axis=0)\n",
    "result\n",
    "\n",
    "result.plot()\n",
    "\n",
    "\n",
    "file_merged = '../../orthomosaics/results/testfile3/mosaic_5_5_1077px_25_tiles/vectors/obj/test_merged.shp'\n",
    "result.to_file(driver = 'ESRI Shapefile', filename= file_merged)\n",
    "\n"
   ]
  },
  {
   "cell_type": "code",
   "execution_count": null,
   "metadata": {
    "collapsed": false
   },
   "outputs": [],
   "source": [
    "crs = {'init': 'epsg:32618'}\n",
    "\n",
    "col = result.columns.tolist()[:-1]\n",
    "#[0:5]\n",
    "print(col)\n",
    "nodes = gpd.GeoDataFrame(crs=crs, columns=col)\n",
    "# extraction of nodes and attribute values nouveau GeoDataFrame\n",
    "for index, row in result.iterrows():\n",
    "    for pt in list(row['geometry'].coords):\n",
    "        print(row['geometry'].coords)\n",
    "        #nodes = nodes.append({'col': int(row['col']), 'row': int(row['row']),  'distance':int(row['distance']),'id':int(row['id']), 'geometry':Point(pt) },ignore_index=True)\n",
    "        nodes = nodes.append({'col': int(row['col']), 'row': int(row['row']),'id':int(row['id']), 'geometry':Point(pt) },ignore_index=True)\n",
    "nodes.head(5)\n",
    "\n",
    "file_mergedk = '../../orthomosaics/results/testfile3/mosaic_5_5_1077px_25_tiles/vectors/obj/test_merged_points.shp'\n",
    "nodes.to_file(driver = 'ESRI Shapefile', filename= file_mergedk)\n"
   ]
  },
  {
   "cell_type": "code",
   "execution_count": null,
   "metadata": {
    "collapsed": false
   },
   "outputs": [],
   "source": [
    "from shapely.geometry import Point\n",
    "for index, row in result.iterrows():\n",
    "     for pt in list(row['geometry'].coords): \n",
    "        print(Point(pt))"
   ]
  },
  {
   "cell_type": "code",
   "execution_count": null,
   "metadata": {
    "collapsed": true
   },
   "outputs": [],
   "source": [
    "################################################## FIN ############################################"
   ]
  },
  {
   "cell_type": "code",
   "execution_count": null,
   "metadata": {
    "collapsed": false
   },
   "outputs": [],
   "source": [
    "lineask[1].geometry[0].wkt"
   ]
  },
  {
   "cell_type": "code",
   "execution_count": null,
   "metadata": {
    "collapsed": false
   },
   "outputs": [],
   "source": [
    "lineask[2].id[0]"
   ]
  },
  {
   "cell_type": "code",
   "execution_count": null,
   "metadata": {
    "collapsed": false
   },
   "outputs": [],
   "source": [
    "len(lineask)"
   ]
  },
  {
   "cell_type": "code",
   "execution_count": null,
   "metadata": {
    "collapsed": false
   },
   "outputs": [],
   "source": [
    "ff=0\n",
    "for f in lineask:\n",
    "    #print(lineask[ff].id[0])\n",
    "    jj=0\n",
    "    for d in lineask[ff].id:\n",
    "        #print('d')\n",
    "        print(lineask[ff].id[jj])\n",
    "        print(lineask[ff].geometry[jj].wkt)\n",
    "        jj+=1\n",
    "    ff+=1"
   ]
  },
  {
   "cell_type": "code",
   "execution_count": null,
   "metadata": {
    "collapsed": true
   },
   "outputs": [],
   "source": []
  },
  {
   "cell_type": "code",
   "execution_count": null,
   "metadata": {
    "collapsed": false
   },
   "outputs": [],
   "source": [
    "#llllineas = []\n",
    "#idllineas = []\n",
    "#a=0\n",
    "#for i in lineask:\n",
    "    #print(lineask[a].geometry)\n",
    "#    llllineas.append([lineask[a].geometry])\n",
    "#    idllineas.append(lineask[a].id)\n",
    "    #print(lineask[a].id)\n",
    "#    a+=1"
   ]
  },
  {
   "cell_type": "code",
   "execution_count": null,
   "metadata": {
    "collapsed": false
   },
   "outputs": [],
   "source": [
    "#crs = {'init': 'epsg:32618'}\n",
    "#dffixedlines = pd.DataFrame({ 'id': idllineas  })\n",
    "\n",
    "\n",
    "#lineask[1]\n",
    "\n",
    "#geodffixedlines=gpd.GeoDataFrame(crs=crs, geometry=lineask)\n",
    "#geodffixedlines.dropna()"
   ]
  },
  {
   "cell_type": "markdown",
   "metadata": {
    "collapsed": true
   },
   "source": [
    "<h1> TEST FUNCTION ->  mergeAllLines</h1>"
   ]
  },
  {
   "cell_type": "code",
   "execution_count": null,
   "metadata": {
    "collapsed": false
   },
   "outputs": [],
   "source": [
    "crgeo.mergeAllLines('../../orthomosaics/results/testfile3/mosaic_5_5_1077px_25_tiles/vectors/obj/',32618)"
   ]
  },
  {
   "cell_type": "code",
   "execution_count": null,
   "metadata": {
    "collapsed": true
   },
   "outputs": [],
   "source": []
  }
 ],
 "metadata": {
  "kernelspec": {
   "display_name": "Python 3",
   "language": "python",
   "name": "python3"
  },
  "language_info": {
   "codemirror_mode": {
    "name": "ipython",
    "version": 3
   },
   "file_extension": ".py",
   "mimetype": "text/x-python",
   "name": "python",
   "nbconvert_exporter": "python",
   "pygments_lexer": "ipython3",
   "version": "3.5.2"
  }
 },
 "nbformat": 4,
 "nbformat_minor": 1
}

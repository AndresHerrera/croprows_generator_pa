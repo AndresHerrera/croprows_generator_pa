{
 "cells": [
  {
   "cell_type": "code",
   "execution_count": 1,
   "metadata": {
    "collapsed": false
   },
   "outputs": [
    {
     "name": "stdout",
     "output_type": "stream",
     "text": [
      "####################################################################\n",
      "\n",
      " #####  ######  ####### ######  ######  ####### #     #  #####     \n",
      "#     # #     # #     # #     # #     # #     # #  #  # #     #    \n",
      "#       #     # #     # #     # #     # #     # #  #  # #          \n",
      "#       ######  #     # ######  ######  #     # #  #  #  #####     \n",
      "#       #   #   #     # #       #   #   #     # #  #  #       #    \n",
      "#     # #    #  #     # #       #    #  #     # #  #  # #     #    \n",
      " #####  #     # ####### #       #     # #######  ## ##   #####     \n",
      "                                                  Version 1.0\t\t\n",
      "\n",
      "####################################################################\n",
      "croprows_globals [ module loaded ]\n",
      "croprows_utils [ module loaded ]\n",
      "####################################################################\n",
      "\n",
      " #####  ######  ####### ######  ######  ####### #     #  #####     \n",
      "#     # #     # #     # #     # #     # #     # #  #  # #     #    \n",
      "#       #     # #     # #     # #     # #     # #  #  # #          \n",
      "#       ######  #     # ######  ######  #     # #  #  #  #####     \n",
      "#       #   #   #     # #       #   #   #     # #  #  #       #    \n",
      "#     # #    #  #     # #       #    #  #     # #  #  # #     #    \n",
      " #####  #     # ####### #       #     # #######  ## ##   #####     \n",
      "                                                  Version 1.0\t\t\n",
      "\n",
      "####################################################################\n",
      "croprows_globals [ module loaded ]\n",
      "croprows_utils [ module loaded ]\n"
     ]
    },
    {
     "data": {
      "text/plain": [
       "<module 'croprows_utils' from '../croprows-cli/src/croprows_utils.py'>"
      ]
     },
     "execution_count": 1,
     "metadata": {},
     "output_type": "execute_result"
    }
   ],
   "source": [
    "import sys\n",
    "#Move to parent folder\n",
    "sys.path.insert(0, '../../croprows-cli/src/')\n",
    "\n",
    "import croprows_globals as crglobals\n",
    "\n",
    "import croprows_utils as crutils\n",
    "\n",
    "import imp \n",
    "imp.reload(crglobals)\n",
    "imp.reload(crutils)"
   ]
  },
  {
   "cell_type": "code",
   "execution_count": 2,
   "metadata": {
    "collapsed": false
   },
   "outputs": [
    {
     "name": "stdout",
     "output_type": "stream",
     "text": [
      "True\n",
      "croprows.log\n",
      "False\n"
     ]
    }
   ],
   "source": [
    "print(crglobals.DEBUGMODE)\n",
    "print(crglobals.LOGFILE)\n",
    "print(crglobals.SAVELOG)"
   ]
  },
  {
   "cell_type": "code",
   "execution_count": 3,
   "metadata": {
    "collapsed": false
   },
   "outputs": [
    {
     "name": "stdout",
     "output_type": "stream",
     "text": [
      "[[-360, 360], [-90, 90], [-45, 45], [0, 90], [90, 180]]\n",
      "[-360, 360]\n",
      "3\n"
     ]
    }
   ],
   "source": [
    "print(crglobals.SEEDCASES)\n",
    "print(crglobals.SEEDCASES[0])\n",
    "\n",
    "print(crglobals.SEED_SPAN)"
   ]
  },
  {
   "cell_type": "code",
   "execution_count": 4,
   "metadata": {
    "collapsed": false
   },
   "outputs": [
    {
     "name": "stdout",
     "output_type": "stream",
     "text": [
      "1000000000\n"
     ]
    }
   ],
   "source": [
    "print(crglobals.MAX_IMAGE_PIXELS_CFG)"
   ]
  },
  {
   "cell_type": "code",
   "execution_count": 5,
   "metadata": {
    "collapsed": false
   },
   "outputs": [
    {
     "name": "stdout",
     "output_type": "stream",
     "text": [
      "results/\n",
      "mosaic\n",
      ".jpg\n",
      ".jpgw\n",
      ".geojson\n",
      ".aux.xml\n",
      ".npy\n"
     ]
    }
   ],
   "source": [
    "print(crglobals.CROPDIR)\n",
    "print(crglobals.PICNAME)\n",
    "print(crglobals.JPG_EXT)\n",
    "print(crglobals.JPGX_EXT)\n",
    "print(crglobals.GEOJSON_EXT)\n",
    "print(crglobals.AUX_EXT)\n",
    "print(crglobals.NPYOBJ)"
   ]
  },
  {
   "cell_type": "code",
   "execution_count": 6,
   "metadata": {
    "collapsed": false
   },
   "outputs": [
    {
     "name": "stdout",
     "output_type": "stream",
     "text": [
      "20\n"
     ]
    }
   ],
   "source": [
    "print(crglobals.DEF_TILESIZE_M)"
   ]
  },
  {
   "cell_type": "code",
   "execution_count": 7,
   "metadata": {
    "collapsed": false
   },
   "outputs": [
    {
     "name": "stdout",
     "output_type": "stream",
     "text": [
      "Hello Crop Rows Core\n"
     ]
    }
   ],
   "source": [
    "a=\"Crop Rows Core\"\n",
    "crutils.printLogMsg(\"Hello %s\" % (a))"
   ]
  },
  {
   "cell_type": "code",
   "execution_count": 8,
   "metadata": {
    "collapsed": false
   },
   "outputs": [
    {
     "name": "stdout",
     "output_type": "stream",
     "text": [
      "30\n",
      "10\n",
      "3\n"
     ]
    }
   ],
   "source": [
    "print(crglobals.CONTOUR_WIDTH_FILTER)\n",
    "print(crglobals.CONTOURAVGMAX)\n",
    "print(crglobals.MAXANGLEDESV)"
   ]
  },
  {
   "cell_type": "code",
   "execution_count": 9,
   "metadata": {
    "collapsed": false
   },
   "outputs": [
    {
     "name": "stdout",
     "output_type": "stream",
     "text": [
      "rasters\n",
      "vectors\n",
      "obj\n",
      "cl_\n",
      "rw_\n",
      "mosaic\n",
      "tiles\n",
      "segmented\n",
      "masked\n",
      "edges\n",
      "contours\n",
      "cimgcont\n",
      "cimgsboxes\n",
      "cimggeoms\n",
      "lines\n",
      "points\n",
      "0.5\n"
     ]
    }
   ],
   "source": [
    "print(crglobals.RASTERDIR)\n",
    "print(crglobals.VECTORDIR)\n",
    "print(crglobals.OBJDIR)\n",
    "print(crglobals.COLPREFIX)\n",
    "print(crglobals.ROWPREFIX)\n",
    "\n",
    "print(crglobals.PICNAME)\n",
    "print(crglobals.TILESENDNAME)\n",
    "print(crglobals.SEGMENTEDNAME)\n",
    "print(crglobals.MASKEDNAME)\n",
    "print(crglobals.EDGESNAME)\n",
    "print(crglobals.CONTOURSNAME)\n",
    "print(crglobals.COMPOSECONTNAME)\n",
    "print(crglobals.COMPOSEBOXNAME)\n",
    "print(crglobals.COMPOSEGEONAME)\n",
    "print(crglobals.VECTORLINES)\n",
    "print(crglobals.VECTORPOINTS)\n",
    "\n",
    "print(crglobals.MINLINEDISTANCE)"
   ]
  },
  {
   "cell_type": "code",
   "execution_count": null,
   "metadata": {
    "collapsed": true
   },
   "outputs": [],
   "source": []
  },
  {
   "cell_type": "code",
   "execution_count": null,
   "metadata": {
    "collapsed": true
   },
   "outputs": [],
   "source": []
  }
 ],
 "metadata": {
  "kernelspec": {
   "display_name": "Python 3",
   "language": "python",
   "name": "python3"
  },
  "language_info": {
   "codemirror_mode": {
    "name": "ipython",
    "version": 3
   },
   "file_extension": ".py",
   "mimetype": "text/x-python",
   "name": "python",
   "nbconvert_exporter": "python",
   "pygments_lexer": "ipython3",
   "version": "3.5.2"
  }
 },
 "nbformat": 4,
 "nbformat_minor": 1
}
